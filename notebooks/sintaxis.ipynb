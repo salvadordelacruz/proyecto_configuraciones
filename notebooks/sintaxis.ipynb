{
 "cells": [
  {
   "cell_type": "markdown",
   "id": "d629527f",
   "metadata": {},
   "source": [
    "prueba de sintaxis "
   ]
  },
  {
   "cell_type": "code",
   "execution_count": 3,
   "id": "2b4b0971",
   "metadata": {},
   "outputs": [
    {
     "data": {
      "text/plain": [
       "True"
      ]
     },
     "execution_count": 3,
     "metadata": {},
     "output_type": "execute_result"
    }
   ],
   "source": [
    "set([3, 4, 5]) == set([4, 3, 5, 3])"
   ]
  },
  {
   "cell_type": "markdown",
   "id": "4b110f3a",
   "metadata": {},
   "source": [
    "operaciones basicas en python diagramas de venn"
   ]
  },
  {
   "cell_type": "code",
   "execution_count": 4,
   "id": "06a51d38",
   "metadata": {},
   "outputs": [],
   "source": [
    "A = {'a','bb','c'}\n",
    "B = {'A','bb','d',42}"
   ]
  },
  {
   "cell_type": "code",
   "execution_count": 5,
   "id": "45ee0b5f",
   "metadata": {},
   "outputs": [
    {
     "data": {
      "text/plain": [
       "{42, 'A', 'a', 'bb', 'c', 'd'}"
      ]
     },
     "execution_count": 5,
     "metadata": {},
     "output_type": "execute_result"
    }
   ],
   "source": [
    "set.union(A,B)"
   ]
  },
  {
   "cell_type": "code",
   "execution_count": 6,
   "id": "20f1fc37",
   "metadata": {},
   "outputs": [
    {
     "data": {
      "text/plain": [
       "{'bb'}"
      ]
     },
     "execution_count": 6,
     "metadata": {},
     "output_type": "execute_result"
    }
   ],
   "source": [
    "set.intersection(A, B)  # {'bb'}"
   ]
  },
  {
   "cell_type": "code",
   "execution_count": 8,
   "id": "7c38d33e",
   "metadata": {},
   "outputs": [
    {
     "data": {
      "text/plain": [
       "{'a', 'c'}"
      ]
     },
     "execution_count": 8,
     "metadata": {},
     "output_type": "execute_result"
    }
   ],
   "source": [
    "set.difference(A, B)  # {'a', 'c'}"
   ]
  },
  {
   "cell_type": "code",
   "execution_count": 9,
   "id": "ab4b318b",
   "metadata": {},
   "outputs": [
    {
     "data": {
      "text/plain": [
       "{42, 'A', 'd'}"
      ]
     },
     "execution_count": 9,
     "metadata": {},
     "output_type": "execute_result"
    }
   ],
   "source": [
    "set.difference(B, A)  # {42, 'A', 'd'}"
   ]
  }
 ],
 "metadata": {
  "kernelspec": {
   "display_name": "Python 3",
   "language": "python",
   "name": "python3"
  },
  "language_info": {
   "codemirror_mode": {
    "name": "ipython",
    "version": 3
   },
   "file_extension": ".py",
   "mimetype": "text/x-python",
   "name": "python",
   "nbconvert_exporter": "python",
   "pygments_lexer": "ipython3",
   "version": "3.11.7"
  }
 },
 "nbformat": 4,
 "nbformat_minor": 5
}
